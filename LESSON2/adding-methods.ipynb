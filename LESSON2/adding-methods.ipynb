{
 "cells": [
  {
   "cell_type": "markdown",
   "metadata": {},
   "source": [
    "## Adding methods\n",
    "\n",
    "You've already seen methods. Some are special like `__init__` and some look like functions but always need `self` as the first argument. These notebook shows you other things you can do with methods."
   ]
  },
  {
   "cell_type": "code",
   "execution_count": 1,
   "metadata": {},
   "outputs": [],
   "source": [
    "# class with two methods\n",
    "\n",
    "class Budget:\n",
    "\n",
    "    def __init__(self, budget):\n",
    "        self.budget = budget\n",
    "\n",
    "    def expense(self, amount):\n",
    "        self.budget = self.budget - amount\n",
    "        print(f\"Budget left: {self.budget}\")\n",
    "        \n",
    "budget = Budget(100)\n",
    "        "
   ]
  },
  {
   "cell_type": "code",
   "execution_count": null,
   "metadata": {},
   "outputs": [
    {
     "ename": "",
     "evalue": "",
     "output_type": "error",
     "traceback": [
      "\u001b[1;31mRunning cells with '.conda (Python 3.11.10)' requires the ipykernel package.\n",
      "\u001b[1;31mRun the following command to install 'ipykernel' into the Python environment. \n",
      "\u001b[1;31mCommand: 'conda install -p /Users/lrichonnier/Desktop/duke-mlops-python/.conda ipykernel --update-deps --force-reinstall'"
     ]
    }
   ],
   "source": [
    "# spend a few and get a report\n",
    "budget.expense(23)\n",
    "budget.expense(45)"
   ]
  },
  {
   "cell_type": "code",
   "execution_count": null,
   "metadata": {},
   "outputs": [
    {
     "ename": "",
     "evalue": "",
     "output_type": "error",
     "traceback": [
      "\u001b[1;31mRunning cells with '.conda (Python 3.11.10)' requires the ipykernel package.\n",
      "\u001b[1;31mRun the following command to install 'ipykernel' into the Python environment. \n",
      "\u001b[1;31mCommand: 'conda install -p /Users/lrichonnier/Desktop/duke-mlops-python/.conda ipykernel --update-deps --force-reinstall'"
     ]
    }
   ],
   "source": [
    "# a method can call another method. Let's add another method to do the reporting\n",
    "class Budget:\n",
    "\n",
    "    def __init__(self, budget):\n",
    "        self.budget = budget\n",
    "\n",
    "    def expense(self, amount):\n",
    "        self.budget = self.budget - amount\n",
    "        self.report()\n",
    "        \n",
    "    def report(self):\n",
    "        print(f\"Budget left: {self.budget}\")\n"
   ]
  },
  {
   "cell_type": "code",
   "execution_count": null,
   "metadata": {},
   "outputs": [
    {
     "ename": "",
     "evalue": "",
     "output_type": "error",
     "traceback": [
      "\u001b[1;31mRunning cells with '.conda (Python 3.11.10)' requires the ipykernel package.\n",
      "\u001b[1;31mRun the following command to install 'ipykernel' into the Python environment. \n",
      "\u001b[1;31mCommand: 'conda install -p /Users/lrichonnier/Desktop/duke-mlops-python/.conda ipykernel --update-deps --force-reinstall'"
     ]
    }
   ],
   "source": [
    "# code works just like before, but it is more organized!\n",
    "april_budget = Budget(400)\n",
    "april_budget.expense(34)"
   ]
  },
  {
   "cell_type": "code",
   "execution_count": null,
   "metadata": {},
   "outputs": [
    {
     "ename": "",
     "evalue": "",
     "output_type": "error",
     "traceback": [
      "\u001b[1;31mRunning cells with '.conda (Python 3.11.10)' requires the ipykernel package.\n",
      "\u001b[1;31mRun the following command to install 'ipykernel' into the Python environment. \n",
      "\u001b[1;31mCommand: 'conda install -p /Users/lrichonnier/Desktop/duke-mlops-python/.conda ipykernel --update-deps --force-reinstall'"
     ]
    }
   ],
   "source": [
    "# methods can change the internal state of the instance\n",
    "print(\"Current budget variable:\", april_budget.budget)"
   ]
  },
  {
   "cell_type": "code",
   "execution_count": null,
   "metadata": {},
   "outputs": [
    {
     "ename": "",
     "evalue": "",
     "output_type": "error",
     "traceback": [
      "\u001b[1;31mRunning cells with '.conda (Python 3.11.10)' requires the ipykernel package.\n",
      "\u001b[1;31mRun the following command to install 'ipykernel' into the Python environment. \n",
      "\u001b[1;31mCommand: 'conda install -p /Users/lrichonnier/Desktop/duke-mlops-python/.conda ipykernel --update-deps --force-reinstall'"
     ]
    }
   ],
   "source": [
    "# method can take arguments and keyword arguments as well\n",
    "# a method can call another method. Let's add another method to do the reporting\n",
    "class Budget:\n",
    "\n",
    "    def __init__(self, budget):\n",
    "        self.budget = budget\n",
    "\n",
    "    def expense(self, amount):\n",
    "        self.budget = self.budget - amount\n",
    "        self.report()\n",
    "        \n",
    "    def report(self, currency=\"$\"):\n",
    "        print(f\"Budget left: {currency}{self.budget}\")"
   ]
  },
  {
   "cell_type": "code",
   "execution_count": null,
   "metadata": {},
   "outputs": [
    {
     "ename": "",
     "evalue": "",
     "output_type": "error",
     "traceback": [
      "\u001b[1;31mRunning cells with '.conda (Python 3.11.10)' requires the ipykernel package.\n",
      "\u001b[1;31mRun the following command to install 'ipykernel' into the Python environment. \n",
      "\u001b[1;31mCommand: 'conda install -p /Users/lrichonnier/Desktop/duke-mlops-python/.conda ipykernel --update-deps --force-reinstall'"
     ]
    }
   ],
   "source": [
    "may_budget = Budget(23)\n",
    "may_budget.report()\n",
    "may_budget.report(\"PER $\")"
   ]
  }
 ],
 "metadata": {
  "kernelspec": {
   "display_name": "Python 3.8.9 64-bit",
   "language": "python",
   "name": "python3"
  },
  "language_info": {
   "codemirror_mode": {
    "name": "ipython",
    "version": 3
   },
   "file_extension": ".py",
   "mimetype": "text/x-python",
   "name": "python",
   "nbconvert_exporter": "python",
   "pygments_lexer": "ipython3",
   "version": "3.11.10"
  },
  "orig_nbformat": 4,
  "vscode": {
   "interpreter": {
    "hash": "31f2aee4e71d21fbe5cf8b01ff0e069b9275f58929596ceb00d14d90e3e16cd6"
   }
  }
 },
 "nbformat": 4,
 "nbformat_minor": 2
}
