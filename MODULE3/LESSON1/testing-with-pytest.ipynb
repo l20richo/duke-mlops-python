{
  "cells": [
    {
      "cell_type": "markdown",
      "metadata": {},
      "source": [
        "# Testing with Pytest\n",
        "As with any Python project, create a virtual environment:\n",
        "\n",
        "```\n",
        "$ python -m venv venv\n",
        "$ source venv/bin/activate\n",
        "```\n",
        "\n",
        "And then install Pytest:\n",
        "\n",
        "```\n",
        "$ pip install pytest\n",
        "```\n",
        "\n",
        "Add it to a `requirements.txt` file so you don't forget to install it next time"
      ]
    },
    {
      "cell_type": "markdown",
      "metadata": {
        "id": "QDK7iRmbNUb3"
      },
      "source": [
        "### Tests can be functions or classes\n",
        "\n",
        "```python\n",
        "def test_my_function():\n",
        "  assert 1 == 1\n",
        "```\n",
        "\n",
        "Classes do not need inheritance:\n",
        "\n",
        "```python\n",
        "class TestMyClass:\n",
        "\n",
        "  def test_my_method(self):\n",
        "    assert 1 == 1\n",
        "```\n"
      ]
    },
    {
      "cell_type": "markdown",
      "metadata": {},
      "source": [
        "## Hands-on installing and running\n",
        "For the next operations, switch to the terminal. After Pytest installation,  change directories to the `examples` directory to run `pytest`\n",
        "\n",
        "In that directory you will have a single"
      ]
    },
    {
      "cell_type": "code",
      "execution_count": 1,
      "metadata": {
        "colab": {
          "base_uri": "https://localhost:8080/"
        },
        "id": "BG1wvESCQ5mi",
        "outputId": "c9204060-3f49-4b16-a123-a01395789d9e"
      },
      "outputs": [
        {
          "name": "stdout",
          "output_type": "stream",
          "text": [
            "zsh:1: command not found: pytest\n"
          ]
        }
      ],
      "source": [
        "!pytest -vvvv test_util.py"
      ]
    },
    {
      "cell_type": "code",
      "execution_count": 2,
      "metadata": {
        "colab": {
          "base_uri": "https://localhost:8080/"
        },
        "id": "nNeTAGeeIgTw",
        "outputId": "05e376e0-beb7-41c0-86f1-918f3b3f86c2"
      },
      "outputs": [
        {
          "name": "stdout",
          "output_type": "stream",
          "text": [
            "Clonage dans 'barebones'...\n",
            "remote: Enumerating objects: 63, done.\u001b[K\n",
            "remote: Counting objects: 100% (63/63), done.\u001b[K\n",
            "remote: Compressing objects: 100% (42/42), done.\u001b[K\n",
            "remote: Total 63 (delta 20), reused 34 (delta 7), pack-reused 0 (from 0)\u001b[K\n",
            "Réception d'objets: 100% (63/63), 10.62 Kio | 10.62 Mio/s, fait.\n",
            "Résolution des deltas: 100% (20/20), fait.\n",
            "The operation couldn’t be completed. Unable to locate a Java Runtime.\n",
            "Please visit http://www.java.com for information on installing Java.\n",
            "\n"
          ]
        }
      ],
      "source": [
        "!git clone https://github.com/alfredodeza/barebones\n",
        "!apt install tree"
      ]
    },
    {
      "cell_type": "code",
      "execution_count": 3,
      "metadata": {
        "colab": {
          "base_uri": "https://localhost:8080/"
        },
        "id": "elgKeUAGCFVU",
        "outputId": "18dc16ae-0efb-4957-ef7e-55d1e6cfdee0"
      },
      "outputs": [
        {
          "name": "stdout",
          "output_type": "stream",
          "text": [
            "zsh:1: command not found: tree\n"
          ]
        }
      ],
      "source": [
        "!tree barebones"
      ]
    },
    {
      "cell_type": "code",
      "execution_count": 4,
      "metadata": {
        "colab": {
          "base_uri": "https://localhost:8080/"
        },
        "id": "6_uzdOoZCMzf",
        "outputId": "190f9a7d-e935-432b-bfa6-dedbc905dac9"
      },
      "outputs": [
        {
          "name": "stdout",
          "output_type": "stream",
          "text": [
            "Collecting pytest\n",
            "  Using cached pytest-8.3.3-py3-none-any.whl.metadata (7.5 kB)\n",
            "Collecting iniconfig (from pytest)\n",
            "  Using cached iniconfig-2.0.0-py3-none-any.whl.metadata (2.6 kB)\n",
            "Requirement already satisfied: packaging in /opt/miniconda3/lib/python3.12/site-packages (from pytest) (24.1)\n",
            "Collecting pluggy<2,>=1.5 (from pytest)\n",
            "  Using cached pluggy-1.5.0-py3-none-any.whl.metadata (4.8 kB)\n",
            "Using cached pytest-8.3.3-py3-none-any.whl (342 kB)\n",
            "Using cached pluggy-1.5.0-py3-none-any.whl (20 kB)\n",
            "Using cached iniconfig-2.0.0-py3-none-any.whl (5.9 kB)\n",
            "Installing collected packages: pluggy, iniconfig, pytest\n",
            "  Attempting uninstall: pluggy\n",
            "    Found existing installation: pluggy 1.0.0\n",
            "    Uninstalling pluggy-1.0.0:\n",
            "      Successfully uninstalled pluggy-1.0.0\n",
            "Successfully installed iniconfig-2.0.0 pluggy-1.5.0 pytest-8.3.3\n"
          ]
        }
      ],
      "source": [
        "!pip install pytest"
      ]
    },
    {
      "cell_type": "code",
      "execution_count": 5,
      "metadata": {
        "colab": {
          "base_uri": "https://localhost:8080/"
        },
        "id": "a_3KHipCIodd",
        "outputId": "3f4f1bfd-1ee3-4f47-97a9-d7f1f070ddc1"
      },
      "outputs": [
        {
          "name": "stdout",
          "output_type": "stream",
          "text": [
            "\u001b[1m============================= test session starts ==============================\u001b[0m\n",
            "platform darwin -- Python 3.12.2, pytest-8.3.3, pluggy-1.5.0\n",
            "rootdir: /Users/lrichonnier/Desktop/duke-mlops-python/MODULE3/LESSON1/barebones\n",
            "collected 4 items                                                              \u001b[0m\n",
            "\n",
            "barebones/jformat/tests/test_main.py \u001b[32m.\u001b[0m\u001b[33m                                   [ 25%]\u001b[0m\n",
            "barebones/jformat/tests/test_verify_output.py \u001b[31mF\u001b[0m\u001b[32m.\u001b[0m\u001b[31mF\u001b[0m\u001b[31m                        [100%]\u001b[0m\n",
            "\n",
            "=================================== FAILURES ===================================\n",
            "\u001b[31m\u001b[1m________________ TestLongComparisons.test_compare_large_strings ________________\u001b[0m\n",
            "\n",
            "self = <jformat.tests.test_verify_output.TestLongComparisons object at 0x10655f590>\n",
            "\n",
            "    \u001b[0m\u001b[94mdef\u001b[39;49;00m \u001b[92mtest_compare_large_strings\u001b[39;49;00m(\u001b[96mself\u001b[39;49;00m):\u001b[90m\u001b[39;49;00m\n",
            "        \u001b[96mself\u001b[39;49;00m.utility()\u001b[90m\u001b[39;49;00m\n",
            "        second = \u001b[33m\"\u001b[39;49;00m\u001b[33mthis is one very long string\u001b[39;49;00m\u001b[33m\"\u001b[39;49;00m\u001b[90m\u001b[39;49;00m\n",
            ">       \u001b[94massert\u001b[39;49;00m \u001b[96mself\u001b[39;49;00m.first == second\u001b[90m\u001b[39;49;00m\n",
            "\u001b[1m\u001b[31mE       AttributeError: 'TestLongComparisons' object has no attribute 'first'\u001b[0m\n",
            "\n",
            "\u001b[1m\u001b[31mbarebones/jformat/tests/test_verify_output.py\u001b[0m:24: AttributeError\n",
            "\u001b[31m\u001b[1m_____________ TestLongComparisons.test_compare_large_lists_to_none _____________\u001b[0m\n",
            "\n",
            "self = <jformat.tests.test_verify_output.TestLongComparisons object at 0x106911760>\n",
            "\n",
            "    \u001b[0m\u001b[94mdef\u001b[39;49;00m \u001b[92mtest_compare_large_lists_to_none\u001b[39;49;00m(\u001b[96mself\u001b[39;49;00m):\u001b[90m\u001b[39;49;00m\n",
            "        \u001b[90m#first = [\"this\", \"is\", \"one\", \"very\", \"long\", \"list\"]\u001b[39;49;00m\u001b[90m\u001b[39;49;00m\n",
            ">       first = \u001b[96mself\u001b[39;49;00m.first.split()\u001b[90m\u001b[39;49;00m\n",
            "\u001b[1m\u001b[31mE       AttributeError: 'TestLongComparisons' object has no attribute 'first'\u001b[0m\n",
            "\n",
            "\u001b[1m\u001b[31mbarebones/jformat/tests/test_verify_output.py\u001b[0m:31: AttributeError\n",
            "\u001b[33m=============================== warnings summary ===============================\u001b[0m\n",
            "barebones/jformat/main.py:4\n",
            "  /Users/lrichonnier/Desktop/duke-mlops-python/MODULE3/LESSON1/barebones/jformat/main.py:4: DeprecationWarning: pkg_resources is deprecated as an API. See https://setuptools.pypa.io/en/latest/pkg_resources.html\n",
            "    import pkg_resources\n",
            "\n",
            "../../../../../../opt/miniconda3/lib/python3.12/site-packages/pkg_resources/__init__.py:3144\n",
            "  /opt/miniconda3/lib/python3.12/site-packages/pkg_resources/__init__.py:3144: DeprecationWarning: Deprecated call to `pkg_resources.declare_namespace('ruamel')`.\n",
            "  Implementing implicit namespace packages (as specified in PEP 420) is preferred to `pkg_resources.declare_namespace`. See https://setuptools.pypa.io/en/latest/references/keywords.html#keyword-namespace-packages\n",
            "    declare_namespace(pkg)\n",
            "\n",
            "-- Docs: https://docs.pytest.org/en/stable/how-to/capture-warnings.html\n",
            "\u001b[36m\u001b[1m=========================== short test summary info ============================\u001b[0m\n",
            "\u001b[31mFAILED\u001b[0m barebones/jformat/tests/test_verify_output.py::\u001b[1mTestLongComparisons::test_compare_large_strings\u001b[0m - AttributeError: 'TestLongComparisons' object has no attribute 'first'\n",
            "\u001b[31mFAILED\u001b[0m barebones/jformat/tests/test_verify_output.py::\u001b[1mTestLongComparisons::test_compare_large_lists_to_none\u001b[0m - AttributeError: 'TestLongComparisons' object has no attribute 'first'\n",
            "\u001b[31m=================== \u001b[31m\u001b[1m2 failed\u001b[0m, \u001b[32m2 passed\u001b[0m, \u001b[33m2 warnings\u001b[0m\u001b[31m in 0.09s\u001b[0m\u001b[31m ====================\u001b[0m\n"
          ]
        }
      ],
      "source": [
        "!pytest barebones"
      ]
    },
    {
      "cell_type": "code",
      "execution_count": 6,
      "metadata": {
        "colab": {
          "base_uri": "https://localhost:8080/"
        },
        "id": "3ZtMp20lVyHk",
        "outputId": "0c6ec4d7-f92b-4221-8e55-8a1f16390bc1"
      },
      "outputs": [
        {
          "name": "stdout",
          "output_type": "stream",
          "text": [
            "\u001b[1m============================= test session starts ==============================\u001b[0m\n",
            "platform darwin -- Python 3.12.2, pytest-8.3.3, pluggy-1.5.0\n",
            "rootdir: /Users/lrichonnier/Desktop/duke-mlops-python/MODULE3/LESSON1/barebones\n",
            "collected 4 items                                                              \u001b[0m\n",
            "\n",
            "<Dir barebones>\n",
            "  <Package jformat>\n",
            "    <Package tests>\n",
            "      <Module test_main.py>\n",
            "        <Function test_yes_is_true>\n",
            "      <Module test_verify_output.py>\n",
            "        <Class TestLongComparisons>\n",
            "          <Function test_compare_large_strings>\n",
            "          <Function test_basic>\n",
            "          <Function test_compare_large_lists_to_none>\n",
            "\n",
            "\u001b[33m=============================== warnings summary ===============================\u001b[0m\n",
            "barebones/jformat/main.py:4\n",
            "  /Users/lrichonnier/Desktop/duke-mlops-python/MODULE3/LESSON1/barebones/jformat/main.py:4: DeprecationWarning: pkg_resources is deprecated as an API. See https://setuptools.pypa.io/en/latest/pkg_resources.html\n",
            "    import pkg_resources\n",
            "\n",
            "../../../../../../opt/miniconda3/lib/python3.12/site-packages/pkg_resources/__init__.py:3144\n",
            "  /opt/miniconda3/lib/python3.12/site-packages/pkg_resources/__init__.py:3144: DeprecationWarning: Deprecated call to `pkg_resources.declare_namespace('ruamel')`.\n",
            "  Implementing implicit namespace packages (as specified in PEP 420) is preferred to `pkg_resources.declare_namespace`. See https://setuptools.pypa.io/en/latest/references/keywords.html#keyword-namespace-packages\n",
            "    declare_namespace(pkg)\n",
            "\n",
            "-- Docs: https://docs.pytest.org/en/stable/how-to/capture-warnings.html\n",
            "\u001b[32m========================== \u001b[32m4 tests collected\u001b[0m\u001b[32m in 0.04s\u001b[0m\u001b[32m ==========================\u001b[0m\n"
          ]
        }
      ],
      "source": [
        "!pytest --collect-only barebones"
      ]
    },
    {
      "cell_type": "markdown",
      "metadata": {
        "id": "362hTtzlPzpm"
      },
      "source": [
        "Inspect the files around the [barebones project](https://github.com/alfredodeza/barebones). It is a simple project that sorts and prettifies JSON to `stdout` or in a file."
      ]
    },
    {
      "cell_type": "markdown",
      "metadata": {},
      "source": []
    }
  ],
  "metadata": {
    "colab": {
      "collapsed_sections": [],
      "name": "Introduction to Pytest.ipynb",
      "provenance": []
    },
    "kernelspec": {
      "display_name": "Python 3",
      "name": "python3"
    },
    "language_info": {
      "codemirror_mode": {
        "name": "ipython",
        "version": 3
      },
      "file_extension": ".py",
      "mimetype": "text/x-python",
      "name": "python",
      "nbconvert_exporter": "python",
      "pygments_lexer": "ipython3",
      "version": "3.13.0"
    }
  },
  "nbformat": 4,
  "nbformat_minor": 0
}
